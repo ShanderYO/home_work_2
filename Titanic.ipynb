{
 "cells": [
  {
   "cell_type": "code",
   "execution_count": 1,
   "metadata": {
    "collapsed": true
   },
   "outputs": [],
   "source": [
    "import os, pandas, numpy\n",
    "from matplotlib import pyplot\n",
    "%matplotlib inline\n",
    "\n",
    "from sklearn.model_selection import train_test_split\n",
    "from sklearn.neighbors import KNeighborsClassifier\n",
    "from sklearn.preprocessing import MinMaxScaler\n",
    "\n",
    "from sklearn.metrics import accuracy_score\n",
    "\n",
    "scaler = MinMaxScaler()"
   ]
  },
  {
   "cell_type": "code",
   "execution_count": 2,
   "metadata": {
    "collapsed": false
   },
   "outputs": [
    {
     "data": {
      "text/html": [
       "<div>\n",
       "<table border=\"1\" class=\"dataframe\">\n",
       "  <thead>\n",
       "    <tr style=\"text-align: right;\">\n",
       "      <th></th>\n",
       "      <th>Survived</th>\n",
       "      <th>Pclass</th>\n",
       "      <th>Sex</th>\n",
       "      <th>Age</th>\n",
       "      <th>SibSp</th>\n",
       "      <th>Parch</th>\n",
       "      <th>Fare</th>\n",
       "      <th>Embarked</th>\n",
       "    </tr>\n",
       "  </thead>\n",
       "  <tbody>\n",
       "    <tr>\n",
       "      <th>0</th>\n",
       "      <td>0</td>\n",
       "      <td>1.0</td>\n",
       "      <td>1</td>\n",
       "      <td>0.271174</td>\n",
       "      <td>0.125</td>\n",
       "      <td>0.000000</td>\n",
       "      <td>0.000000</td>\n",
       "      <td>0.5</td>\n",
       "    </tr>\n",
       "    <tr>\n",
       "      <th>1</th>\n",
       "      <td>1</td>\n",
       "      <td>0.0</td>\n",
       "      <td>0</td>\n",
       "      <td>0.472229</td>\n",
       "      <td>0.125</td>\n",
       "      <td>0.000000</td>\n",
       "      <td>0.137255</td>\n",
       "      <td>0.0</td>\n",
       "    </tr>\n",
       "    <tr>\n",
       "      <th>2</th>\n",
       "      <td>1</td>\n",
       "      <td>1.0</td>\n",
       "      <td>0</td>\n",
       "      <td>0.321438</td>\n",
       "      <td>0.000</td>\n",
       "      <td>0.000000</td>\n",
       "      <td>0.000000</td>\n",
       "      <td>0.5</td>\n",
       "    </tr>\n",
       "    <tr>\n",
       "      <th>3</th>\n",
       "      <td>1</td>\n",
       "      <td>0.0</td>\n",
       "      <td>0</td>\n",
       "      <td>0.434531</td>\n",
       "      <td>0.125</td>\n",
       "      <td>0.000000</td>\n",
       "      <td>0.098039</td>\n",
       "      <td>0.5</td>\n",
       "    </tr>\n",
       "    <tr>\n",
       "      <th>4</th>\n",
       "      <td>0</td>\n",
       "      <td>1.0</td>\n",
       "      <td>1</td>\n",
       "      <td>0.434531</td>\n",
       "      <td>0.000</td>\n",
       "      <td>0.000000</td>\n",
       "      <td>0.000000</td>\n",
       "      <td>0.5</td>\n",
       "    </tr>\n",
       "    <tr>\n",
       "      <th>5</th>\n",
       "      <td>0</td>\n",
       "      <td>1.0</td>\n",
       "      <td>1</td>\n",
       "      <td>0.346569</td>\n",
       "      <td>0.000</td>\n",
       "      <td>0.000000</td>\n",
       "      <td>0.000000</td>\n",
       "      <td>1.0</td>\n",
       "    </tr>\n",
       "    <tr>\n",
       "      <th>6</th>\n",
       "      <td>0</td>\n",
       "      <td>0.0</td>\n",
       "      <td>1</td>\n",
       "      <td>0.673285</td>\n",
       "      <td>0.000</td>\n",
       "      <td>0.000000</td>\n",
       "      <td>0.098039</td>\n",
       "      <td>0.5</td>\n",
       "    </tr>\n",
       "    <tr>\n",
       "      <th>7</th>\n",
       "      <td>0</td>\n",
       "      <td>1.0</td>\n",
       "      <td>1</td>\n",
       "      <td>0.019854</td>\n",
       "      <td>0.375</td>\n",
       "      <td>0.166667</td>\n",
       "      <td>0.039216</td>\n",
       "      <td>0.5</td>\n",
       "    </tr>\n",
       "    <tr>\n",
       "      <th>8</th>\n",
       "      <td>1</td>\n",
       "      <td>1.0</td>\n",
       "      <td>0</td>\n",
       "      <td>0.334004</td>\n",
       "      <td>0.000</td>\n",
       "      <td>0.333333</td>\n",
       "      <td>0.019608</td>\n",
       "      <td>0.5</td>\n",
       "    </tr>\n",
       "    <tr>\n",
       "      <th>9</th>\n",
       "      <td>1</td>\n",
       "      <td>0.5</td>\n",
       "      <td>0</td>\n",
       "      <td>0.170646</td>\n",
       "      <td>0.125</td>\n",
       "      <td>0.000000</td>\n",
       "      <td>0.058824</td>\n",
       "      <td>0.0</td>\n",
       "    </tr>\n",
       "  </tbody>\n",
       "</table>\n",
       "</div>"
      ],
      "text/plain": [
       "   Survived  Pclass  Sex       Age  SibSp     Parch      Fare  Embarked\n",
       "0         0     1.0    1  0.271174  0.125  0.000000  0.000000       0.5\n",
       "1         1     0.0    0  0.472229  0.125  0.000000  0.137255       0.0\n",
       "2         1     1.0    0  0.321438  0.000  0.000000  0.000000       0.5\n",
       "3         1     0.0    0  0.434531  0.125  0.000000  0.098039       0.5\n",
       "4         0     1.0    1  0.434531  0.000  0.000000  0.000000       0.5\n",
       "5         0     1.0    1  0.346569  0.000  0.000000  0.000000       1.0\n",
       "6         0     0.0    1  0.673285  0.000  0.000000  0.098039       0.5\n",
       "7         0     1.0    1  0.019854  0.375  0.166667  0.039216       0.5\n",
       "8         1     1.0    0  0.334004  0.000  0.333333  0.019608       0.5\n",
       "9         1     0.5    0  0.170646  0.125  0.000000  0.058824       0.0"
      ]
     },
     "execution_count": 2,
     "metadata": {},
     "output_type": "execute_result"
    }
   ],
   "source": [
    "train = pandas.read_csv('train.csv')\n",
    "test = pandas.read_csv('test.csv')\n",
    "train.head(3)\n",
    "train[\"Embarked\"].replace(['S', 'C', 'Q'], [1, 0, 2], inplace=True)\n",
    "max_embarked = train['Embarked'].value_counts().idxmax()\n",
    "train[\"Embarked\"] = train[\"Embarked\"].fillna(max_embarked)\n",
    "train.drop(['PassengerId', 'Name', 'Ticket', 'Cabin'], axis=1, inplace=True)\n",
    "train[\"Sex\"].replace(['male', 'female'], [1, 0], inplace=True)\n",
    "age_mediana = train.Age.median()\n",
    "train[\"Age\"] = train[\"Age\"].apply(lambda a: age_mediana if numpy.isnan(a) else a)\n",
    "train[\"Fare\"] = train[\"Fare\"].apply(lambda f: int(f/10) if not numpy.isnan(f) else None)\n",
    "max_fare = train['Fare'].value_counts().idxmax()\n",
    "train[\"Fare\"].fillna(max_fare, inplace=True)\n",
    "norm_list = ['Pclass', 'Fare', 'Age', 'SibSp', 'Parch', 'Embarked']\n",
    "train[norm_list] = pandas.DataFrame(scaler.fit_transform(train[norm_list]))\n",
    "train.head(10)"
   ]
  },
  {
   "cell_type": "code",
   "execution_count": 3,
   "metadata": {
    "collapsed": false
   },
   "outputs": [],
   "source": [
    "target = train['Survived']\n",
    "train.drop('Survived', axis=1, inplace=True)\n",
    "train_x, test_x, train_y, test_y = train_test_split(train, target, test_size=0.20, stratify=target)"
   ]
  },
  {
   "cell_type": "markdown",
   "metadata": {},
   "source": [
    "<p>k-nearest neighbors algorithm:"
   ]
  },
  {
   "cell_type": "code",
   "execution_count": 4,
   "metadata": {
    "collapsed": false
   },
   "outputs": [
    {
     "data": {
      "text/plain": [
       "KNeighborsClassifier(algorithm='auto', leaf_size=30, metric='minkowski',\n",
       "           metric_params=None, n_jobs=1, n_neighbors=5, p=2,\n",
       "           weights='uniform')"
      ]
     },
     "execution_count": 4,
     "metadata": {},
     "output_type": "execute_result"
    }
   ],
   "source": [
    "knn = KNeighborsClassifier(n_neighbors=5)\n",
    "knn.fit(train_x, train_y)\n",
    "\n",
    "y_pred = knn.predict(test_x)\n",
    "\n",
    "accuracy_score(test_y, y_pred)\n",
    "\n",
    "scaler.fit(train_x)\n",
    "\n",
    "train_x_t = scaler.transform(train_x)\n",
    "test_x_t = scaler.transform(test_x)\n",
    "knn_t = KNeighborsClassifier(n_neighbors=5)\n",
    "knn_t.fit(train_x_t, train_y)"
   ]
  },
  {
   "cell_type": "code",
   "execution_count": 5,
   "metadata": {
    "collapsed": false
   },
   "outputs": [
    {
     "data": {
      "text/plain": [
       "0.7988826815642458"
      ]
     },
     "execution_count": 5,
     "metadata": {},
     "output_type": "execute_result"
    }
   ],
   "source": [
    "y_pred_t = knn_t.predict(test_x_t)\n",
    "accuracy_score(test_y, y_pred_t)"
   ]
  },
  {
   "cell_type": "code",
   "execution_count": 6,
   "metadata": {
    "collapsed": false
   },
   "outputs": [
    {
     "name": "stdout",
     "output_type": "stream",
     "text": [
      "(5, 0.7988826815642458, 0.7988826815642458)\n",
      "(6, 0.8044692737430168, 0.8044692737430168)\n",
      "(7, 0.79329608938547491, 0.79329608938547491)\n",
      "(8, 0.8044692737430168, 0.8044692737430168)\n",
      "(9, 0.79329608938547491, 0.79329608938547491)\n",
      "(10, 0.81005586592178769, 0.81005586592178769)\n",
      "(11, 0.78770949720670391, 0.78770949720670391)\n",
      "(12, 0.81005586592178769, 0.81005586592178769)\n",
      "(13, 0.7988826815642458, 0.7988826815642458)\n",
      "(14, 0.81005586592178769, 0.81005586592178769)\n"
     ]
    }
   ],
   "source": [
    "for i in xrange(5, 15):\n",
    "    knn_t = KNeighborsClassifier(n_neighbors=i)\n",
    "    knn_t.fit(train_x_t, train_y)\n",
    "    knn = KNeighborsClassifier(n_neighbors=i)\n",
    "    knn.fit(train_x, train_y)\n",
    "    print(i, accuracy_score(test_y, knn.predict(test_x)), accuracy_score(test_y, knn_t.predict(test_x_t)))"
   ]
  },
  {
   "cell_type": "markdown",
   "metadata": {},
   "source": [
    "<p>Classification and regression tree:"
   ]
  },
  {
   "cell_type": "code",
   "execution_count": 7,
   "metadata": {
    "collapsed": false
   },
   "outputs": [
    {
     "name": "stdout",
     "output_type": "stream",
     "text": [
      "0.804469273743\n",
      "0.821229050279\n",
      "0.821229050279\n",
      "0.843575418994\n",
      "0.860335195531\n",
      "0.877094972067\n",
      "0.877094972067\n",
      "0.877094972067\n"
     ]
    }
   ],
   "source": [
    "from sklearn import tree\n",
    "train_x, test_x, train_y, test_y = train_test_split(train, target, test_size=0.20, stratify=target)\n",
    "\n",
    "for i in xrange(2, 10):\n",
    "    clf = tree.DecisionTreeClassifier(min_samples_split=i)\n",
    "    clf.fit(train_x, train_y)\n",
    "    pred = clf.predict(test_x)\n",
    "    print(accuracy_score(pred, test_y))"
   ]
  },
  {
   "cell_type": "markdown",
   "metadata": {},
   "source": [
    "<p> Random forest:"
   ]
  },
  {
   "cell_type": "code",
   "execution_count": 8,
   "metadata": {
    "collapsed": false
   },
   "outputs": [
    {
     "data": {
      "text/plain": [
       "0.79329608938547491"
      ]
     },
     "execution_count": 8,
     "metadata": {},
     "output_type": "execute_result"
    }
   ],
   "source": [
    "from sklearn.ensemble import RandomForestClassifier\n",
    "train_x, test_x, train_y, test_y = train_test_split(train, target, test_size=0.20, stratify=target)\n",
    "# Функция для обучения и оценки классификатора\n",
    "def train_and_estimate(train_x, train_y, test_x, test_y):\n",
    "    clf = RandomForestClassifier(max_depth=5, n_estimators=10, max_features=2)  # Задаем параметры случайного леса\n",
    "    clf.fit(train_x, train_y)  # Обучаем на обучающей выборке\n",
    "    return accuracy_score(test_y, clf.predict(test_x))  # Возвращаем долю верных классификаций на тестовой выборке\n",
    "\n",
    "train_and_estimate(train_x, train_y, test_x, test_y)"
   ]
  }
 ],
 "metadata": {
  "kernelspec": {
   "display_name": "Python 2",
   "language": "python",
   "name": "python2"
  },
  "language_info": {
   "codemirror_mode": {
    "name": "ipython",
    "version": 2
   },
   "file_extension": ".py",
   "mimetype": "text/x-python",
   "name": "python",
   "nbconvert_exporter": "python",
   "pygments_lexer": "ipython2",
   "version": "2.7.13"
  }
 },
 "nbformat": 4,
 "nbformat_minor": 2
}
